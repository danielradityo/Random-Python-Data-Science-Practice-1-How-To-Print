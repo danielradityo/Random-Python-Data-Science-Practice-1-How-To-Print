{
 "cells": [
  {
   "cell_type": "markdown",
   "metadata": {},
   "source": [
    "# Random Python Data Science Practice #1"
   ]
  },
  {
   "cell_type": "markdown",
   "metadata": {},
   "source": [
    "## How to print"
   ]
  },
  {
   "cell_type": "code",
   "execution_count": 29,
   "metadata": {},
   "outputs": [
    {
     "name": "stdout",
     "output_type": "stream",
     "text": [
      "Please input your firt name: Daniel\n",
      "Please input your last name: Radityo\n"
     ]
    }
   ],
   "source": [
    "# How to print\n",
    "# Input Variable\n",
    "first_name = str(input('Please input your firt name: '))\n",
    "last_name = str(input('Please input your last name: '))"
   ]
  },
  {
   "cell_type": "code",
   "execution_count": 33,
   "metadata": {},
   "outputs": [
    {
     "name": "stdout",
     "output_type": "stream",
     "text": [
      "Welcome aboard: Daniel Radityo --> This is a simple print\n"
     ]
    }
   ],
   "source": [
    "# 1. Use simple print\n",
    "print('Welcome aboard:', first_name, last_name, '--> This is a simple print')"
   ]
  },
  {
   "cell_type": "code",
   "execution_count": 42,
   "metadata": {},
   "outputs": [
    {
     "name": "stdout",
     "output_type": "stream",
     "text": [
      "Welcome aboard: Daniel Radityo --> This is use f\n"
     ]
    }
   ],
   "source": [
    "# 2. Use f'\n",
    "print(f'Welcome aboard: {first_name} {last_name} --> This is use f')"
   ]
  },
  {
   "cell_type": "code",
   "execution_count": 43,
   "metadata": {},
   "outputs": [
    {
     "name": "stdout",
     "output_type": "stream",
     "text": [
      "Welcome aboard: Daniel Radityo --> This is use .format\n"
     ]
    }
   ],
   "source": [
    "# 3. Use .format\n",
    "print('Welcome aboard: {} {} --> This is use .format'.format(first_name, last_name))"
   ]
  }
 ],
 "metadata": {
  "kernelspec": {
   "display_name": "Python 3",
   "language": "python",
   "name": "python3"
  },
  "language_info": {
   "codemirror_mode": {
    "name": "ipython",
    "version": 3
   },
   "file_extension": ".py",
   "mimetype": "text/x-python",
   "name": "python",
   "nbconvert_exporter": "python",
   "pygments_lexer": "ipython3",
   "version": "3.8.5"
  }
 },
 "nbformat": 4,
 "nbformat_minor": 4
}
